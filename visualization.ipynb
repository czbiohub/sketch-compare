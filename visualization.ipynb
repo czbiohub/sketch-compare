{
 "cells": [
  {
   "cell_type": "code",
   "execution_count": null,
   "metadata": {},
   "outputs": [],
   "source": [
    "%load_ext autoreload\n",
    "%autoreload 2"
   ]
  },
  {
   "cell_type": "code",
   "execution_count": 1,
   "metadata": {},
   "outputs": [],
   "source": [
    "import pandas as pd\n",
    "import seaborn as sns; sns.set(color_codes=True)\n",
    "import numpy as np"
   ]
  },
  {
   "cell_type": "code",
   "execution_count": 2,
   "metadata": {},
   "outputs": [
    {
     "data": {
      "text/html": [
       "<div>\n",
       "<style scoped>\n",
       "    .dataframe tbody tr th:only-of-type {\n",
       "        vertical-align: middle;\n",
       "    }\n",
       "\n",
       "    .dataframe tbody tr th {\n",
       "        vertical-align: top;\n",
       "    }\n",
       "\n",
       "    .dataframe thead th {\n",
       "        text-align: right;\n",
       "    }\n",
       "</style>\n",
       "<table border=\"1\" class=\"dataframe\">\n",
       "  <thead>\n",
       "    <tr style=\"text-align: right;\">\n",
       "      <th></th>\n",
       "      <th>genus</th>\n",
       "      <th>species</th>\n",
       "      <th>corrected genus</th>\n",
       "      <th>corrected species</th>\n",
       "    </tr>\n",
       "  </thead>\n",
       "  <tbody>\n",
       "    <tr>\n",
       "      <th>CMS_001_RNA_A_S1_001</th>\n",
       "      <td>Culex</td>\n",
       "      <td>erythrothorax</td>\n",
       "      <td>Culex</td>\n",
       "      <td>erythrothorax</td>\n",
       "    </tr>\n",
       "    <tr>\n",
       "      <th>CMS_002_10a_Rb_S119_L004</th>\n",
       "      <td>Culex</td>\n",
       "      <td>quinquefasciatus</td>\n",
       "      <td>Culex</td>\n",
       "      <td>quinquefasciatus</td>\n",
       "    </tr>\n",
       "    <tr>\n",
       "      <th>CMS_002_13a_Rb_S120_L004</th>\n",
       "      <td>Culex</td>\n",
       "      <td>quinquefasciatus</td>\n",
       "      <td>Culex</td>\n",
       "      <td>quinquefasciatus</td>\n",
       "    </tr>\n",
       "    <tr>\n",
       "      <th>CMS_002_16a_Rb_S121_L004</th>\n",
       "      <td>Aedes</td>\n",
       "      <td>aegypti</td>\n",
       "      <td>Aedes</td>\n",
       "      <td>aegypti</td>\n",
       "    </tr>\n",
       "    <tr>\n",
       "      <th>CMS_002_17a_Rb_S122_L004</th>\n",
       "      <td>Aedes</td>\n",
       "      <td>aegypti</td>\n",
       "      <td>Aedes</td>\n",
       "      <td>aegypti</td>\n",
       "    </tr>\n",
       "  </tbody>\n",
       "</table>\n",
       "</div>"
      ],
      "text/plain": [
       "                          genus           species corrected genus  \\\n",
       "CMS_001_RNA_A_S1_001      Culex     erythrothorax           Culex   \n",
       "CMS_002_10a_Rb_S119_L004  Culex  quinquefasciatus           Culex   \n",
       "CMS_002_13a_Rb_S120_L004  Culex  quinquefasciatus           Culex   \n",
       "CMS_002_16a_Rb_S121_L004  Aedes           aegypti           Aedes   \n",
       "CMS_002_17a_Rb_S122_L004  Aedes           aegypti           Aedes   \n",
       "\n",
       "                         corrected species  \n",
       "CMS_001_RNA_A_S1_001         erythrothorax  \n",
       "CMS_002_10a_Rb_S119_L004  quinquefasciatus  \n",
       "CMS_002_13a_Rb_S120_L004  quinquefasciatus  \n",
       "CMS_002_16a_Rb_S121_L004           aegypti  \n",
       "CMS_002_17a_Rb_S122_L004           aegypti  "
      ]
     },
     "execution_count": 2,
     "metadata": {},
     "output_type": "execute_result"
    }
   ],
   "source": [
    "species_id = pd.read_csv(\"~/code/skeeters/data/sample_genus_and_species.csv\", header=0, index_col = 0)\n",
    "species_id.rename(index={'CMS_001_RNA_A_S1':'CMS_001_RNA_A_S1_001'},inplace=True)\n",
    "species_id.head()"
   ]
  },
  {
   "cell_type": "code",
   "execution_count": 3,
   "metadata": {},
   "outputs": [],
   "source": [
    "dc_tsv = pd.read_csv(\"sketches/ska/10000000/distances.clusters.tsv\", sep='\\t')"
   ]
  },
  {
   "cell_type": "code",
   "execution_count": 5,
   "metadata": {},
   "outputs": [],
   "source": [
    "dd_tsv = pd.read_csv(\"sketches/ska/10000000/distances.distances.tsv\", sep='\\t')\n",
    "shape_dd_tsv = dd_tsv.shape\n",
    "\n",
    "# Add prefix columns and size\n",
    "dd_tsv[\"Sample 1 prefix\"] = dd_tsv.apply(lambda row: row[\"Sample 1\"].split(\"_10000000\")[0], axis=1)\n",
    "dd_tsv[\"Sample 2 prefix\"] = dd_tsv.apply(lambda row: row[\"Sample 2\"].split(\"_10000000\")[0], axis=1)\n",
    "dd_tsv[\"Size\"] = dd_tsv.apply(lambda row: row[\"Sample 2\"].split(\"_\")[-1], axis=1)\n",
    "\n",
    "dd_tsv.drop(['Sample 1', 'Sample 2'], axis=1)\n",
    "dd_tsv.head()\n",
    "\n",
    "# re-organize columns\n",
    "dd_tsv = dd_tsv[[\"Sample 1 prefix\", \n",
    "                 \"Sample 2 prefix\", \n",
    "                 \"Size\", \"Matches\", \n",
    "                 \"Mismatches\", \n",
    "                 \"Jaccard Index\",\n",
    "                 \"Mash-like distance\",\n",
    "                 \"SNPs\",\n",
    "                 \"SNP distance\",\n",
    "                ]]\n",
    "\n",
    "# join on species data table\n",
    "dd_tsv_w_labels = pd.merge(\n",
    "    dd_tsv, \n",
    "    species_id[[\"genus\", \"species\"]], \n",
    "    how='left',\n",
    "    left_on=\"Sample 1 prefix\", \n",
    "    right_index=True, \n",
    ")\n",
    "\n",
    "# assert original data frame did not expand in row number\n",
    "assert shape_dd_tsv[0] == dd_tsv_w_labels.shape[0]"
   ]
  },
  {
   "cell_type": "code",
   "execution_count": 6,
   "metadata": {},
   "outputs": [
    {
     "data": {
      "text/html": [
       "<div>\n",
       "<style scoped>\n",
       "    .dataframe tbody tr th:only-of-type {\n",
       "        vertical-align: middle;\n",
       "    }\n",
       "\n",
       "    .dataframe tbody tr th {\n",
       "        vertical-align: top;\n",
       "    }\n",
       "\n",
       "    .dataframe thead th {\n",
       "        text-align: right;\n",
       "    }\n",
       "</style>\n",
       "<table border=\"1\" class=\"dataframe\">\n",
       "  <thead>\n",
       "    <tr style=\"text-align: right;\">\n",
       "      <th></th>\n",
       "      <th>Sample 1 prefix</th>\n",
       "      <th>Sample 2 prefix</th>\n",
       "      <th>Size</th>\n",
       "      <th>Matches</th>\n",
       "      <th>Mismatches</th>\n",
       "      <th>Jaccard Index</th>\n",
       "      <th>Mash-like distance</th>\n",
       "      <th>SNPs</th>\n",
       "      <th>SNP distance</th>\n",
       "      <th>genus</th>\n",
       "      <th>species</th>\n",
       "    </tr>\n",
       "  </thead>\n",
       "  <tbody>\n",
       "    <tr>\n",
       "      <th>0</th>\n",
       "      <td>CMS_001_RNA_A_S1_001</td>\n",
       "      <td>CMS_002_10a_Rb_S119_L004_001</td>\n",
       "      <td>10000000</td>\n",
       "      <td>107591</td>\n",
       "      <td>796458</td>\n",
       "      <td>0.119010</td>\n",
       "      <td>0.049930</td>\n",
       "      <td>590</td>\n",
       "      <td>0.005484</td>\n",
       "      <td>Culex</td>\n",
       "      <td>erythrothorax</td>\n",
       "    </tr>\n",
       "    <tr>\n",
       "      <th>1</th>\n",
       "      <td>CMS_001_RNA_A_S1_001</td>\n",
       "      <td>CMS_002_13a_Rb_S120_L004_001</td>\n",
       "      <td>10000000</td>\n",
       "      <td>124812</td>\n",
       "      <td>898057</td>\n",
       "      <td>0.122021</td>\n",
       "      <td>0.049211</td>\n",
       "      <td>683</td>\n",
       "      <td>0.005472</td>\n",
       "      <td>Culex</td>\n",
       "      <td>erythrothorax</td>\n",
       "    </tr>\n",
       "    <tr>\n",
       "      <th>2</th>\n",
       "      <td>CMS_001_RNA_A_S1_001</td>\n",
       "      <td>CMS_002_16a_Rb_S121_L004_001</td>\n",
       "      <td>10000000</td>\n",
       "      <td>64767</td>\n",
       "      <td>1005138</td>\n",
       "      <td>0.060535</td>\n",
       "      <td>0.070005</td>\n",
       "      <td>591</td>\n",
       "      <td>0.009125</td>\n",
       "      <td>Culex</td>\n",
       "      <td>erythrothorax</td>\n",
       "    </tr>\n",
       "    <tr>\n",
       "      <th>3</th>\n",
       "      <td>CMS_001_RNA_A_S1_001</td>\n",
       "      <td>CMS_002_17a_Rb_S122_L004_001</td>\n",
       "      <td>10000000</td>\n",
       "      <td>67326</td>\n",
       "      <td>950575</td>\n",
       "      <td>0.066142</td>\n",
       "      <td>0.067318</td>\n",
       "      <td>585</td>\n",
       "      <td>0.008689</td>\n",
       "      <td>Culex</td>\n",
       "      <td>erythrothorax</td>\n",
       "    </tr>\n",
       "    <tr>\n",
       "      <th>4</th>\n",
       "      <td>CMS_001_RNA_A_S1_001</td>\n",
       "      <td>CMS_002_17b_Rb_S123_L004_001</td>\n",
       "      <td>10000000</td>\n",
       "      <td>68380</td>\n",
       "      <td>970402</td>\n",
       "      <td>0.065827</td>\n",
       "      <td>0.067462</td>\n",
       "      <td>593</td>\n",
       "      <td>0.008672</td>\n",
       "      <td>Culex</td>\n",
       "      <td>erythrothorax</td>\n",
       "    </tr>\n",
       "  </tbody>\n",
       "</table>\n",
       "</div>"
      ],
      "text/plain": [
       "        Sample 1 prefix               Sample 2 prefix      Size  Matches  \\\n",
       "0  CMS_001_RNA_A_S1_001  CMS_002_10a_Rb_S119_L004_001  10000000   107591   \n",
       "1  CMS_001_RNA_A_S1_001  CMS_002_13a_Rb_S120_L004_001  10000000   124812   \n",
       "2  CMS_001_RNA_A_S1_001  CMS_002_16a_Rb_S121_L004_001  10000000    64767   \n",
       "3  CMS_001_RNA_A_S1_001  CMS_002_17a_Rb_S122_L004_001  10000000    67326   \n",
       "4  CMS_001_RNA_A_S1_001  CMS_002_17b_Rb_S123_L004_001  10000000    68380   \n",
       "\n",
       "   Mismatches  Jaccard Index  Mash-like distance  SNPs  SNP distance  genus  \\\n",
       "0      796458       0.119010            0.049930   590      0.005484  Culex   \n",
       "1      898057       0.122021            0.049211   683      0.005472  Culex   \n",
       "2     1005138       0.060535            0.070005   591      0.009125  Culex   \n",
       "3      950575       0.066142            0.067318   585      0.008689  Culex   \n",
       "4      970402       0.065827            0.067462   593      0.008672  Culex   \n",
       "\n",
       "         species  \n",
       "0  erythrothorax  \n",
       "1  erythrothorax  \n",
       "2  erythrothorax  \n",
       "3  erythrothorax  \n",
       "4  erythrothorax  "
      ]
     },
     "execution_count": 6,
     "metadata": {},
     "output_type": "execute_result"
    }
   ],
   "source": [
    "dd_tsv_w_labels.head()"
   ]
  },
  {
   "cell_type": "code",
   "execution_count": 11,
   "metadata": {},
   "outputs": [
    {
     "data": {
      "text/plain": [
       "0        0.119010\n",
       "1        0.122021\n",
       "2        0.060535\n",
       "3        0.066142\n",
       "4        0.065827\n",
       "5        0.063517\n",
       "6        0.064399\n",
       "7        0.068669\n",
       "8        0.064455\n",
       "9        0.063613\n",
       "10       0.066260\n",
       "11       0.120662\n",
       "12       0.056889\n",
       "13       0.084494\n",
       "14       0.088217\n",
       "15       0.072726\n",
       "16       0.077090\n",
       "17       0.051544\n",
       "18       0.121451\n",
       "19       0.119574\n",
       "20       0.050486\n",
       "21       0.063576\n",
       "22       0.054121\n",
       "23       0.060218\n",
       "24       0.067787\n",
       "25       0.053796\n",
       "26       0.060898\n",
       "27       0.062067\n",
       "28       0.061644\n",
       "29       0.057571\n",
       "           ...   \n",
       "12850    0.024023\n",
       "12851    0.015832\n",
       "12852    0.245919\n",
       "12853    0.114472\n",
       "12854    0.002864\n",
       "12855    0.012772\n",
       "12856    0.183811\n",
       "12857    0.012768\n",
       "12858    0.006988\n",
       "12859    0.109297\n",
       "12860    0.002921\n",
       "12861    0.013868\n",
       "12862    0.186785\n",
       "12863    0.012053\n",
       "12864    0.008433\n",
       "12865    0.003796\n",
       "12866    0.011383\n",
       "12867    0.138618\n",
       "12868    0.011318\n",
       "12869    0.006974\n",
       "12870    0.029951\n",
       "12871    0.004310\n",
       "12872    0.012425\n",
       "12873    0.114993\n",
       "12874    0.066934\n",
       "12875    0.291299\n",
       "12876    0.201881\n",
       "12877    0.072835\n",
       "12878    0.028624\n",
       "12879    0.088095\n",
       "Length: 12880, dtype: float64"
      ]
     },
     "execution_count": 11,
     "metadata": {},
     "output_type": "execute_result"
    }
   ],
   "source": [
    "dd_tsv.Matches/(dd_tsv.Matches + dd_tsv.Mismatches)"
   ]
  },
  {
   "cell_type": "code",
   "execution_count": 16,
   "metadata": {},
   "outputs": [],
   "source": [
    "dd_tsv.Matches/(dd_tsv.Matches + dd_tsv.Mismatches).values"
   ]
  },
  {
   "cell_type": "code",
   "execution_count": null,
   "metadata": {},
   "outputs": [],
   "source": [
    "distances_clusters_tsv.tail()"
   ]
  },
  {
   "cell_type": "code",
   "execution_count": null,
   "metadata": {},
   "outputs": [],
   "source": [
    "# distances_distances_tsv.head(30)\n",
    "data2d = distances_distances_tsv.pivot(columns=\"Sample 1\", index=\"Sample 2\", values=\"Mash-like distance\")\n",
    "print(data2d.shape)\n",
    "data2d.head()"
   ]
  },
  {
   "cell_type": "code",
   "execution_count": null,
   "metadata": {},
   "outputs": [],
   "source": [
    "data2d = data2d.loc[data2d.columns, :]\n",
    "print(data2d.shape)\n",
    "data2d.head()"
   ]
  },
  {
   "cell_type": "code",
   "execution_count": null,
   "metadata": {},
   "outputs": [],
   "source": [
    "import numpy as np\n",
    "\n",
    "np.fill_diagonal(data2d.values, 1)\n",
    "data2d.head()"
   ]
  },
  {
   "cell_type": "code",
   "execution_count": null,
   "metadata": {},
   "outputs": [],
   "source": [
    "data2d.T.head()"
   ]
  },
  {
   "cell_type": "code",
   "execution_count": null,
   "metadata": {},
   "outputs": [],
   "source": [
    "data2d.fillna(0) + data2d.T.fillna(0) - np.diag(data2d.values.diagonal())"
   ]
  },
  {
   "cell_type": "code",
   "execution_count": null,
   "metadata": {},
   "outputs": [],
   "source": [
    "data2d.values"
   ]
  },
  {
   "cell_type": "code",
   "execution_count": null,
   "metadata": {},
   "outputs": [],
   "source": [
    "t = distances_distances_tsv[[\"\"]]\n",
    "#sns.pairplot()"
   ]
  },
  {
   "cell_type": "code",
   "execution_count": null,
   "metadata": {},
   "outputs": [],
   "source": []
  },
  {
   "cell_type": "code",
   "execution_count": null,
   "metadata": {},
   "outputs": [],
   "source": [
    "iris = sns.load_dataset(\"iris\")\n",
    "iris.head()"
   ]
  },
  {
   "cell_type": "code",
   "execution_count": null,
   "metadata": {},
   "outputs": [],
   "source": [
    "from khtools import knn, sourmash_utils"
   ]
  },
  {
   "cell_type": "code",
   "execution_count": null,
   "metadata": {},
   "outputs": [],
   "source": [
    "pd.__file__"
   ]
  },
  {
   "cell_type": "code",
   "execution_count": null,
   "metadata": {},
   "outputs": [],
   "source": []
  }
 ],
 "metadata": {
  "kernelspec": {
   "display_name": "Python 3",
   "language": "python",
   "name": "python3"
  },
  "language_info": {
   "codemirror_mode": {
    "name": "ipython",
    "version": 3
   },
   "file_extension": ".py",
   "mimetype": "text/x-python",
   "name": "python",
   "nbconvert_exporter": "python",
   "pygments_lexer": "ipython3",
   "version": "3.7.3"
  }
 },
 "nbformat": 4,
 "nbformat_minor": 2
}
